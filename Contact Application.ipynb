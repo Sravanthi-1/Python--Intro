{
 "cells": [
  {
   "cell_type": "markdown",
   "metadata": {},
   "source": [
    "# Contact Application\n",
    "### 1. Add New Contact\n",
    "### 2. Search for Contact\n",
    "### 3. List of All Contacts\n",
    "### 3.1 Name1 - Phone1\n",
    "### 3.2 Name2 - Phone2\n",
    "### 3.3 Importing New Contacts\n",
    "### 3.4 Merge To Existing Contacts\n",
    "### 4. Remove Contact\n",
    "### 5. Modify Contact\n",
    "\n",
    "#### Used only one Dictionary Object"
   ]
  },
  {
   "cell_type": "code",
   "execution_count": 7,
   "metadata": {},
   "outputs": [
    {
     "name": "stdout",
     "output_type": "stream",
     "text": [
      "Contact Anil added\n",
      "Contact Harsha added\n",
      "Contact Anil already exists\n"
     ]
    }
   ],
   "source": [
    "contacts={}\n",
    "def addContact(name,phone):\n",
    "    \n",
    "    #verify that contact does not already exist\n",
    "    if name not in contacts:\n",
    "        contacts[name]=phone;\n",
    "        print(\"Contact %s added\" % name)\n",
    "    else:\n",
    "        print(\"Contact %s already exists\" % name)\n",
    "    return;\n",
    "\n",
    "addContact(\"Anil\",8467987563)\n",
    "addContact(\"Harsha\",764985987)\n",
    "addContact(\"Anil\",456798086)\n"
   ]
  },
  {
   "cell_type": "markdown",
   "metadata": {},
   "source": [
    "#### Search for a particular contact from Contacts List"
   ]
  },
  {
   "cell_type": "code",
   "execution_count": 8,
   "metadata": {},
   "outputs": [
    {
     "name": "stdout",
     "output_type": "stream",
     "text": [
      "Anil : 8467987563\n",
      "Ajay does not exists\n",
      "Harsha : 764985987\n",
      "Kranth does not exists\n"
     ]
    }
   ],
   "source": [
    "def searchContact(name):\n",
    "    if name in contacts:\n",
    "        print(name,\":\",contacts[name]);\n",
    "    else:\n",
    "        print(\"%s does not exists\" %name);\n",
    "    return;\n",
    "\n",
    "searchContact(\"Anil\");\n",
    "searchContact(\"Ajay\");\n",
    "searchContact(\"Harsha\");\n",
    "searchContact(\"Kranth\");"
   ]
  },
  {
   "cell_type": "markdown",
   "metadata": {},
   "source": [
    "#### New Contacts is given as a Dictionary"
   ]
  },
  {
   "cell_type": "code",
   "execution_count": 10,
   "metadata": {},
   "outputs": [
    {
     "name": "stdout",
     "output_type": "stream",
     "text": [
      "{'Anil': 8467987563, 'Harsha': 764985987}\n"
     ]
    }
   ],
   "source": [
    "print(contacts);"
   ]
  },
  {
   "cell_type": "markdown",
   "metadata": {},
   "source": [
    "#### New Contacts is given as a Dictionary\n",
    "##### Merge new contact with existing contact list"
   ]
  },
  {
   "cell_type": "code",
   "execution_count": 16,
   "metadata": {},
   "outputs": [
    {
     "name": "stdout",
     "output_type": "stream",
     "text": [
      "2 Contacts added successful\n"
     ]
    }
   ],
   "source": [
    "def importContacts(newContacts):\n",
    "    contacts.update(newContacts)\n",
    "    print(len(newContacts.keys()),\"Contacts added successful\");\n",
    "    return;\n",
    "\n",
    "newContacts={'Dinesh':45674578,'Ajay':894577387}\n",
    "importContacts(newContacts)"
   ]
  },
  {
   "cell_type": "code",
   "execution_count": 17,
   "metadata": {},
   "outputs": [
    {
     "name": "stdout",
     "output_type": "stream",
     "text": [
      "{'Anil': 8467987563, 'Harsha': 764985987, 'Dinesh': 45674578, 'Ajay': 894577387}\n"
     ]
    }
   ],
   "source": [
    "print(contacts)"
   ]
  },
  {
   "cell_type": "markdown",
   "metadata": {},
   "source": [
    "#### Delete a contact from contacts list"
   ]
  },
  {
   "cell_type": "code",
   "execution_count": 22,
   "metadata": {},
   "outputs": [
    {
     "name": "stdout",
     "output_type": "stream",
     "text": [
      "Harsha is not exists in the contacts\n",
      "Naveen is not exists in the contacts\n"
     ]
    }
   ],
   "source": [
    "def deleteContact(name):\n",
    "    if name in contacts:\n",
    "        del contacts[name];\n",
    "        print(name,\"is not deleted from the contacts\")\n",
    "    else:\n",
    "        print(name,\"is not exists in the contacts\")\n",
    "    return\n",
    "\n",
    "deleteContact(\"Harsha\")\n",
    "deleteContact(\"Naveen\")"
   ]
  },
  {
   "cell_type": "code",
   "execution_count": 21,
   "metadata": {},
   "outputs": [
    {
     "name": "stdout",
     "output_type": "stream",
     "text": [
      "{'Anil': 8467987563, 'Dinesh': 45674578, 'Ajay': 894577387}\n"
     ]
    }
   ],
   "source": [
    "print(contacts)"
   ]
  },
  {
   "cell_type": "markdown",
   "metadata": {},
   "source": [
    "#### To Update Contacts"
   ]
  },
  {
   "cell_type": "code",
   "execution_count": 25,
   "metadata": {},
   "outputs": [
    {
     "name": "stdout",
     "output_type": "stream",
     "text": [
      "Anil Update with new Phone Number\n",
      "Harsha Not exists in the Contacts\n"
     ]
    }
   ],
   "source": [
    "def updateContacts(name,phone):\n",
    "    if name in contacts:\n",
    "        contacts[name]=phone;\n",
    "        print(name,\"Update with new Phone Number\");\n",
    "    else:\n",
    "        print(name,\"Not exists in the Contacts\");\n",
    "    return;\n",
    "\n",
    "updateContacts(\"Anil\",6475788767)\n",
    "updateContacts(\"Harsha\",6385482735)"
   ]
  },
  {
   "cell_type": "code",
   "execution_count": 26,
   "metadata": {},
   "outputs": [
    {
     "name": "stdout",
     "output_type": "stream",
     "text": [
      "{'Anil': 6475788767, 'Dinesh': 45674578, 'Ajay': 894577387}\n"
     ]
    }
   ],
   "source": [
    "print(contacts)"
   ]
  }
 ],
 "metadata": {
  "kernelspec": {
   "display_name": "Python 3",
   "language": "python",
   "name": "python3"
  },
  "language_info": {
   "codemirror_mode": {
    "name": "ipython",
    "version": 3
   },
   "file_extension": ".py",
   "mimetype": "text/x-python",
   "name": "python",
   "nbconvert_exporter": "python",
   "pygments_lexer": "ipython3",
   "version": "3.7.3"
  }
 },
 "nbformat": 4,
 "nbformat_minor": 2
}
