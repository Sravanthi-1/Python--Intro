{
 "cells": [
  {
   "cell_type": "markdown",
   "metadata": {},
   "source": [
    "### Pandas Data Frames Data Analysis with Python"
   ]
  },
  {
   "cell_type": "markdown",
   "metadata": {},
   "source": [
    "## Example  1"
   ]
  },
  {
   "cell_type": "code",
   "execution_count": 10,
   "metadata": {},
   "outputs": [
    {
     "name": "stdout",
     "output_type": "stream",
     "text": [
      "     Name           EmailID  Mobile Number\n",
      "0    Anil    anil@gmail.com             99\n",
      "1   Akhil   akhil@gmail.com             44\n",
      "2  Dinesh  dinesh@gmail.com             55\n",
      "3  Harsha  harsha@gmail.com             22\n",
      "4    Ajay    ajay@gmail.com             33\n",
      "5  Kranth  kranth@gmail.com             41\n"
     ]
    }
   ],
   "source": [
    "import pandas as pd\n",
    "dict={\"Name\":[\"Anil\",\"Akhil\",\"Dinesh\",\"Harsha\",\"Ajay\",\"Kranth\"],\n",
    "    \"EmailID\":[\"anil@gmail.com\",\"akhil@gmail.com\",\"dinesh@gmail.com\",\"harsha@gmail.com\",\"ajay@gmail.com\",\"kranth@gmail.com\"],\n",
    "    \"Mobile Number\":[99,44,55,22,33,41]}\n",
    "\n",
    "b=pd.DataFrame(dict)\n",
    "print(b)\n"
   ]
  },
  {
   "cell_type": "code",
   "execution_count": 11,
   "metadata": {},
   "outputs": [
    {
     "name": "stdout",
     "output_type": "stream",
     "text": [
      "      Name           EmailID  Mobile Number\n",
      "01    Anil    anil@gmail.com             99\n",
      "02   Akhil   akhil@gmail.com             44\n",
      "03  Dinesh  dinesh@gmail.com             55\n",
      "04  Harsha  harsha@gmail.com             22\n",
      "05    Ajay    ajay@gmail.com             33\n",
      "06  Kranth  kranth@gmail.com             41\n"
     ]
    }
   ],
   "source": [
    "b.index=[\"01\",\"02\",\"03\",\"04\",\"05\",\"06\"]\n",
    "print(b)"
   ]
  },
  {
   "cell_type": "markdown",
   "metadata": {},
   "source": [
    "## Example 2\n",
    "#### supermarket.csv - Analysis (Which product having higher % of selling)\n",
    "#### Which products having least selling %"
   ]
  },
  {
   "cell_type": "code",
   "execution_count": 16,
   "metadata": {},
   "outputs": [
    {
     "name": "stdout",
     "output_type": "stream",
     "text": [
      "    This is 0 Line\n",
      "0   This is 1 Line\n",
      "1   This is 2 Line\n",
      "2   This is 3 Line\n",
      "3   This is 4 Line\n",
      "4   This is 5 Line\n",
      "5   This is 6 Line\n",
      "6   This is 7 Line\n",
      "7   This is 8 Line\n",
      "8   This is 9 Line\n",
      "9       New line 1\n",
      "10      New line 2\n"
     ]
    }
   ],
   "source": [
    "import pandas as pd\n",
    "products=pd.read_csv('file1.txt')\n",
    "print(products)"
   ]
  }
 ],
 "metadata": {
  "kernelspec": {
   "display_name": "Python 3",
   "language": "python",
   "name": "python3"
  },
  "language_info": {
   "codemirror_mode": {
    "name": "ipython",
    "version": 3
   },
   "file_extension": ".py",
   "mimetype": "text/x-python",
   "name": "python",
   "nbconvert_exporter": "python",
   "pygments_lexer": "ipython3",
   "version": "3.7.3"
  }
 },
 "nbformat": 4,
 "nbformat_minor": 2
}
