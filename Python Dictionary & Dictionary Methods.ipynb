{
 "cells": [
  {
   "cell_type": "markdown",
   "metadata": {},
   "source": [
    "# Python Dictionary"
   ]
  },
  {
   "cell_type": "markdown",
   "metadata": {},
   "source": [
    "## Question 1\n",
    "### Description : To Update & Create new entry in Dictionary"
   ]
  },
  {
   "cell_type": "code",
   "execution_count": 1,
   "metadata": {},
   "outputs": [
    {
     "name": "stdout",
     "output_type": "stream",
     "text": [
      "anilgmail.com\n",
      "Anilkumar@gmail.com\n",
      "Hyderabad\n"
     ]
    }
   ],
   "source": [
    "user1={'Name':'Anil','Age':29,'EmailID':'anilgmail.com','MobileNo':'56784325378'}\n",
    "print(user1['EmailID']);\n",
    "\n",
    "#Update\n",
    "user1['EmailID']='Anilkumar@gmail.com'\n",
    "print(user1['EmailID'])\n",
    "user1['Address']='Hyderabad'  #New entry\n",
    "print(user1['Address'])"
   ]
  },
  {
   "cell_type": "markdown",
   "metadata": {},
   "source": [
    "## Question 2\n",
    "### Description : To delete and clear()"
   ]
  },
  {
   "cell_type": "code",
   "execution_count": 2,
   "metadata": {},
   "outputs": [],
   "source": [
    "user1={'Name':'Anil','Age':29,'EmailID':'anilgmail.com','MobileNo':'56784325378'}\n",
    "del user1['EmailID'];\n",
    "user1.clear()\n",
    "del user1"
   ]
  },
  {
   "cell_type": "markdown",
   "metadata": {},
   "source": [
    "# Dictionary Method"
   ]
  },
  {
   "cell_type": "markdown",
   "metadata": {},
   "source": [
    "## Question 3\n",
    "### Description : len()"
   ]
  },
  {
   "cell_type": "code",
   "execution_count": 4,
   "metadata": {},
   "outputs": [
    {
     "name": "stdout",
     "output_type": "stream",
     "text": [
      "4\n",
      "5\n"
     ]
    }
   ],
   "source": [
    "user1={'Name':'Anil','Age':29,'EmailID':'anilgmail.com','MobileNo':'56784325378'}\n",
    "print(len(user1));\n",
    "user1['Address']='Hyderabad';\n",
    "print(len(user1));"
   ]
  },
  {
   "cell_type": "markdown",
   "metadata": {},
   "source": [
    "## Question 4\n",
    "### Description : copy()"
   ]
  },
  {
   "cell_type": "code",
   "execution_count": 5,
   "metadata": {},
   "outputs": [
    {
     "name": "stdout",
     "output_type": "stream",
     "text": [
      "{'Name': 'Anil', 'Age': 29, 'EmailID': 'anilgmail.com', 'MobileNo': '56784325378'}\n",
      "{'Name': 'Anil', 'Age': 29, 'EmailID': 'anilgmail.com', 'MobileNo': '56784325378'}\n",
      "{'Name': 'Anil', 'Age': 29, 'EmailID': 'anilgmail.com', 'MobileNo': '56784325378', 'Address': 'Hyderabad'}\n",
      "{'Name': 'Anil', 'Age': 29, 'EmailID': 'anilgmail.com', 'MobileNo': '56784325378'}\n"
     ]
    }
   ],
   "source": [
    "user1={'Name':'Anil','Age':29,'EmailID':'anilgmail.com','MobileNo':'56784325378'}\n",
    "user2=user1.copy()\n",
    "print(user1)\n",
    "print(user2);\n",
    "user1['Address']='Hyderabad'\n",
    "print(user1)\n",
    "print(user2);"
   ]
  },
  {
   "cell_type": "markdown",
   "metadata": {},
   "source": [
    "## Question 5\n",
    "### Description : items()"
   ]
  },
  {
   "cell_type": "code",
   "execution_count": 6,
   "metadata": {},
   "outputs": [
    {
     "name": "stdout",
     "output_type": "stream",
     "text": [
      "dict_items([('Name', 'Anil'), ('Age', '29'), ('EmailID', 'anil@gmail.com'), ('Mobile no.', '123456789')])\n"
     ]
    }
   ],
   "source": [
    "user1={'Name': 'Anil', 'Age': '29','EmailID':'anil@gmail.com','Mobile no.':'123456789'}\n",
    "print(user1.items())"
   ]
  },
  {
   "cell_type": "markdown",
   "metadata": {},
   "source": [
    "## Question 6\n",
    "### Description : copy() & values()"
   ]
  },
  {
   "cell_type": "code",
   "execution_count": 7,
   "metadata": {},
   "outputs": [
    {
     "name": "stdout",
     "output_type": "stream",
     "text": [
      "dict_values(['Anil', '29', 'anil@gmail.com', '123456789'])\n",
      "dict_values(['Anil', '29', 'anil@gmail.com', '123456789'])\n"
     ]
    }
   ],
   "source": [
    "user1={'Name': 'Anil', 'Age': '29','EmailID':'anil@gmail.com','Mobile no.':'123456789'}\n",
    "user2=user1.copy()\n",
    "print(user1.values())\n",
    "print(user2.values())"
   ]
  }
 ],
 "metadata": {
  "kernelspec": {
   "display_name": "Python 3",
   "language": "python",
   "name": "python3"
  },
  "language_info": {
   "codemirror_mode": {
    "name": "ipython",
    "version": 3
   },
   "file_extension": ".py",
   "mimetype": "text/x-python",
   "name": "python",
   "nbconvert_exporter": "python",
   "pygments_lexer": "ipython3",
   "version": "3.7.3"
  }
 },
 "nbformat": 4,
 "nbformat_minor": 2
}
