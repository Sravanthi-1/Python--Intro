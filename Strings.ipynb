{
 "cells": [
  {
   "cell_type": "markdown",
   "metadata": {},
   "source": [
    "# Strings"
   ]
  },
  {
   "cell_type": "markdown",
   "metadata": {},
   "source": [
    "## Question 1\n",
    "### Description : Single & Double Quotes."
   ]
  },
  {
   "cell_type": "code",
   "execution_count": 1,
   "metadata": {},
   "outputs": [
    {
     "name": "stdout",
     "output_type": "stream",
     "text": [
      "app\n",
      "app\n",
      " app test\n",
      "        working\n",
      "        completed  \n",
      "        list\n",
      "        string\n",
      "        python\n"
     ]
    }
   ],
   "source": [
    "str=\"app\";\n",
    "print(str);\n",
    "\n",
    "str1='app';\n",
    "print(str1);\n",
    "\n",
    "str2=\"\"\" app test\n",
    "        working\n",
    "        completed  \n",
    "        list\n",
    "        string\n",
    "        python\"\"\"\n",
    "print(str2);"
   ]
  },
  {
   "cell_type": "markdown",
   "metadata": {},
   "source": [
    "## Question 2\n",
    "### Description : Array Srings"
   ]
  },
  {
   "cell_type": "code",
   "execution_count": 2,
   "metadata": {},
   "outputs": [
    {
     "name": "stdout",
     "output_type": "stream",
     "text": [
      "Application\n",
      "str[0]= A\n",
      "str[1]= p\n",
      "str[-1]= n\n",
      "str[-3]= i\n",
      "str[:5]= Appli\n",
      "str[5:-2]= cati\n",
      "str[::-1]= noitacilppA\n"
     ]
    }
   ],
   "source": [
    "str=\"Application\"\n",
    "print(str)\n",
    "print(\"str[0]=\",str[0])\n",
    "print(\"str[1]=\",str[1])\n",
    "print(\"str[-1]=\",str[-1])\n",
    "print(\"str[-3]=\",str[-3])\n",
    "print(\"str[:5]=\",str[:5])\n",
    "print(\"str[5:-2]=\",str[5:-2])\n",
    "print(\"str[::-1]=\",str[::-1]) #reverse the str\n",
    "\n",
    "\n"
   ]
  },
  {
   "cell_type": "markdown",
   "metadata": {},
   "source": [
    "## Question 3\n",
    "### Description : Palindrome"
   ]
  },
  {
   "cell_type": "code",
   "execution_count": 19,
   "metadata": {},
   "outputs": [
    {
     "name": "stdout",
     "output_type": "stream",
     "text": [
      "False\n",
      "True\n"
     ]
    }
   ],
   "source": [
    "def palindrome(s):\n",
    "    if s==s[::-1]:\n",
    "        return True;\n",
    "    else:\n",
    "        return False;\n",
    "    \n",
    "print(palindrome(\"Python\"));\n",
    "print(palindrome(\"jalaj\"));"
   ]
  },
  {
   "cell_type": "markdown",
   "metadata": {},
   "source": [
    "## Question 4\n",
    "### Description : Count Nos using len()"
   ]
  },
  {
   "cell_type": "code",
   "execution_count": 7,
   "metadata": {},
   "outputs": [
    {
     "data": {
      "text/plain": [
       "7"
      ]
     },
     "execution_count": 7,
     "metadata": {},
     "output_type": "execute_result"
    }
   ],
   "source": [
    "def countdg(n):\n",
    "    return len(n);\n",
    "\n",
    "countdg(\"3455678\")"
   ]
  },
  {
   "cell_type": "markdown",
   "metadata": {},
   "source": [
    "## Question 5\n",
    "### Description : Count Characters using len()"
   ]
  },
  {
   "cell_type": "code",
   "execution_count": 10,
   "metadata": {},
   "outputs": [
    {
     "data": {
      "text/plain": [
       "6"
      ]
     },
     "execution_count": 10,
     "metadata": {},
     "output_type": "execute_result"
    }
   ],
   "source": [
    "def countch(n):\n",
    "    return len(n);\n",
    "\n",
    "countch(\"dfghjk\")"
   ]
  },
  {
   "cell_type": "markdown",
   "metadata": {},
   "source": [
    "## Question 6\n",
    "### Description : No of UpperCase Letters."
   ]
  },
  {
   "cell_type": "code",
   "execution_count": 20,
   "metadata": {},
   "outputs": [
    {
     "name": "stdout",
     "output_type": "stream",
     "text": [
      "3\n",
      "2\n"
     ]
    }
   ],
   "source": [
    "def countuppcase(str):\n",
    "    cnt=0;\n",
    "    listS=list(str);\n",
    "    for x in range(len(listS)):\n",
    "        if ord(listS[x])>=65 and ord(listS[x])<=90:\n",
    "            cnt=cnt+1;\n",
    "    return cnt;\n",
    "\n",
    "print(countuppcase(\"AppLiCation\"));\n",
    "print(countuppcase(\"TeSt\"));\n"
   ]
  },
  {
   "cell_type": "markdown",
   "metadata": {},
   "source": [
    "## Question 7\n",
    "### Description : To print only digits."
   ]
  },
  {
   "cell_type": "code",
   "execution_count": 21,
   "metadata": {},
   "outputs": [
    {
     "name": "stdout",
     "output_type": "stream",
     "text": [
      "1 8 8 9 None\n"
     ]
    }
   ],
   "source": [
    "def pntdg(str):\n",
    "    list1=list(str);\n",
    "    for x in range(len(list1)):\n",
    "        if ord(list1[x])>=48 and ord(list1[x])<=57:\n",
    "            print(list1[x],end=\" \")\n",
    "            \n",
    "print(pntdg(\"Application1889\"))"
   ]
  },
  {
   "cell_type": "markdown",
   "metadata": {},
   "source": [
    "## Question 8\n",
    "### Decsription : Sum of Digits of the given String."
   ]
  },
  {
   "cell_type": "code",
   "execution_count": 22,
   "metadata": {},
   "outputs": [
    {
     "name": "stdout",
     "output_type": "stream",
     "text": [
      "26\n"
     ]
    }
   ],
   "source": [
    "def sumdgstr(str):\n",
    "    sum=0;\n",
    "    list1=list(str);\n",
    "    for x in range(len(list1)):\n",
    "        if ord(list1[x])>=48 and ord(list1[x])<=57:\n",
    "            sum=sum+ord(list1[x])-48;\n",
    "    return sum;\n",
    "            \n",
    "print(sumdgstr(\"Application1889\"))"
   ]
  },
  {
   "cell_type": "markdown",
   "metadata": {},
   "source": [
    "## Question 9\n",
    "### Description : Sum of Even Digits of the given String."
   ]
  },
  {
   "cell_type": "code",
   "execution_count": 25,
   "metadata": {},
   "outputs": [
    {
     "name": "stdout",
     "output_type": "stream",
     "text": [
      "16\n"
     ]
    }
   ],
   "source": [
    "def sumedgstr(str):\n",
    "    sum=0;\n",
    "    list1=list(str);\n",
    "    for x in range(len(list1)):\n",
    "        if ord(list1[x])>=48 and ord(list1[x])<=57:\n",
    "            ac=ord(list1[x])-48;\n",
    "            if(ac%2==0):\n",
    "                sum=sum+ord(list1[x])-48;\n",
    "    return sum;\n",
    "            \n",
    "print(sumedgstr(\"Application1889\"))"
   ]
  }
 ],
 "metadata": {
  "kernelspec": {
   "display_name": "Python 3",
   "language": "python",
   "name": "python3"
  },
  "language_info": {
   "codemirror_mode": {
    "name": "ipython",
    "version": 3
   },
   "file_extension": ".py",
   "mimetype": "text/x-python",
   "name": "python",
   "nbconvert_exporter": "python",
   "pygments_lexer": "ipython3",
   "version": "3.7.3"
  }
 },
 "nbformat": 4,
 "nbformat_minor": 2
}
